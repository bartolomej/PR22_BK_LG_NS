{
 "cells": [
  {
   "cell_type": "markdown",
   "source": [
    "## Startup analysis"
   ],
   "metadata": {
    "collapsed": false
   }
  },
  {
   "cell_type": "code",
   "execution_count": 23,
   "metadata": {
    "collapsed": true,
    "pycharm": {
     "name": "#%%\n"
    }
   },
   "outputs": [],
   "source": [
    "from numpy import genfromtxt\n",
    "from datetime import datetime\n",
    "\n",
    "def to_date(value):\n",
    "    return datetime.strptime(value, '%Y-%m-%d %H:%M:%S')\n",
    "\n",
    "def to_str(value):\n",
    "    return value.decode('utf-8')\n",
    "\n",
    "def get_investments():\n",
    "    return genfromtxt('data/investments.csv', delimiter=',', skip_header=1, converters={\n",
    "        2: lambda x: to_str(x), # fund\n",
    "        3: lambda x: to_str(x), # investor\n",
    "        4: lambda x: to_date(to_str(x)), # created date\n",
    "        5: lambda x: to_date(to_str(x)), # updated date\n",
    "    })\n",
    "\n",
    "# TODO: write import functions for other files\n",
    "investments = get_investments()"
   ]
  }
 ],
 "metadata": {
  "kernelspec": {
   "display_name": "Python 3",
   "language": "python",
   "name": "python3"
  },
  "language_info": {
   "codemirror_mode": {
    "name": "ipython",
    "version": 2
   },
   "file_extension": ".py",
   "mimetype": "text/x-python",
   "name": "python",
   "nbconvert_exporter": "python",
   "pygments_lexer": "ipython2",
   "version": "2.7.6"
  }
 },
 "nbformat": 4,
 "nbformat_minor": 0
}